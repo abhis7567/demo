{
 "cells": [
  {
   "cell_type": "code",
   "execution_count": 1,
   "id": "f26266e5",
   "metadata": {},
   "outputs": [
    {
     "name": "stdout",
     "output_type": "stream",
     "text": [
      "5\n",
      "14/29\n"
     ]
    }
   ],
   "source": [
    "k = int(input())\n",
    "class newone:\n",
    "    count1 = 0\n",
    "    count2 = 0\n",
    "    def main(self, args) :\n",
    "        sc =  \"Python-inputs\"\n",
    "        \n",
    "        self.recur(\"\", k)\n",
    "        #print(self.count1)\n",
    "        print(str(self.count2) + \"/\" + str(self.count1))\n",
    "    def recur(self, str,  i):\n",
    "        if (i < 0):\n",
    "            if (str[len(str) - 1] == 'A'):\n",
    "                self.count2 += 1\n",
    "            self.count1 += 1\n",
    "            return\n",
    "        if (len(str) > 0) :\n",
    "            if (len(str) >= 3 and not str[len(str) - 3:len(str)]==\"AAA\"): \n",
    "                self.recur(str + \"A\", i - 1)\n",
    "            elif (len(str) < 3) :\n",
    "                self.recur(str + \"A\", i - 1)\n",
    "        self.recur(str + \"P\", i - 1)\n",
    "        \n",
    "n = newone()\n",
    "n.main(k)"
   ]
  },
  {
   "cell_type": "code",
   "execution_count": null,
   "id": "97542520",
   "metadata": {},
   "outputs": [],
   "source": []
  }
 ],
 "metadata": {
  "kernelspec": {
   "display_name": "Python 3 (ipykernel)",
   "language": "python",
   "name": "python3"
  },
  "language_info": {
   "codemirror_mode": {
    "name": "ipython",
    "version": 3
   },
   "file_extension": ".py",
   "mimetype": "text/x-python",
   "name": "python",
   "nbconvert_exporter": "python",
   "pygments_lexer": "ipython3",
   "version": "3.9.4"
  }
 },
 "nbformat": 4,
 "nbformat_minor": 5
}
